{
 "cells": [
  {
   "cell_type": "code",
   "execution_count": 52,
   "metadata": {
    "collapsed": true
   },
   "outputs": [],
   "source": [
    "import pandas as pd\n",
    "import datetime\n",
    "import random, string\n",
    "import faker"
   ]
  },
  {
   "cell_type": "markdown",
   "source": [
    "Сгенерировать свой dataset\n",
    "\n",
    "- россия/импорт (boolean)\n",
    "- дата (date)\n",
    "- id товара (uuid, e.g. сникерс)\n",
    "- штрихкод\n",
    "- координата или название улицы (geo) (placeId?)\n",
    "- id партии\n",
    "- цена отгрузки/ритейлер/продажа\n",
    "- факт продажи (код вышел из оборота)\n",
    "- срок годности\n",
    "- broken (списание)\n",
    "- вес, размер, хрупкость (0-1), объём\n",
    "- id производитель (где-то снаружи)\n",
    "- id категории товара (где-то снаружи)\n",
    "- id ассоциации\n",
    "\n",
    "Сколько данных?\n",
    "\n",
    "Молочка\n",
    "Более 100 видов продукции (кефир, молоко, йогурты и тд)\n",
    "~~120 предприятий~~\n",
    "Объём/тип/жирность/вкусы - пускай 10\n",
    "Кол-во пересадок - 4 (на каждый товар 4 записи)\n",
    "32 млн тонн - 2021г\n",
    "32 * 1000 * 1000 * 1000 / (100 * 120 * 10) = 266000 в каждой категории\n",
    "Берём в 1к раз меньше, поэтому 266 в каждой категории\n",
    "\n",
    "Итого у нас столько записей должно быть:\n",
    "100 * 10 * 4 * 266 = 1.27млн\n",
    "\n",
    "2022 - 12 млн сканирований молочной продукции\n",
    "\n",
    "Честный знак:\n",
    "44млн товаров, 37к производителей"
   ],
   "metadata": {
    "collapsed": false
   }
  },
  {
   "cell_type": "code",
   "execution_count": 61,
   "outputs": [],
   "source": [
    "fake = faker.Faker(locale=\"ru_RU\")\n",
    "\n",
    "\n",
    "\n",
    "def randomword(length):\n",
    "    letters = string.ascii_lowercase\n",
    "    return ''.join(random.choice(letters) for i in range(length))\n",
    "\n",
    "\n",
    "def random_date(start, end):\n",
    "    \"\"\"\n",
    "    This function will return a random datetime between two datetime\n",
    "    objects.\n",
    "    \"\"\"\n",
    "    delta = end - start\n",
    "    int_delta = (delta.days * 24 * 60 * 60) + delta.seconds\n",
    "    random_second = random.randrange(int_delta)\n",
    "    return start + datetime.timedelta(seconds=random_second)\n",
    "\n",
    "d1 = datetime.datetime.strptime('1/1/2019 1:30 PM', '%m/%d/%Y %I:%M %p')\n",
    "d2 = datetime.datetime.strptime('1/1/2022 4:50 AM', '%m/%d/%Y %I:%M %p')\n",
    "\n",
    "citiesData=pd.read_csv('koord_russia.csv', delimiter=';', encoding='windows-1251')\n",
    "shape_cities=citiesData.shape\n",
    "\n",
    "datasetArray=[];\n",
    "\n",
    "for i in range(100000):\n",
    "    product_id = ' '.join([str(random.randint(0, 999)).zfill(3) for _ in range(2)])\n",
    "    part_id= ' '.join([str(random.randint(0, 999)).zfill(3) for _ in range(2)])\n",
    "    good_import=random.random()>0,5;\n",
    "    expiration_date= random.randint(30, 356);\n",
    "    start_date=random_date(d1, d2)\n",
    "    fragility=random.random();\n",
    "    manufacturer_id=' '.join([str(random.randint(0, 999)).zfill(3) for _ in range(2)])\n",
    "    product_category_id=' '.join([str(random.randint(0, 999)).zfill(3) for _ in range(2)])\n",
    "    volume=random.random() * 2\n",
    "    cost= random.randint(20, 400);\n",
    "\n",
    "    if random.random()>0.5:\n",
    "        good_import=True;\n",
    "    else:\n",
    "        good_import=False\n",
    "\n",
    "    if random.random()>0.1:\n",
    "        broken=False;\n",
    "    else:\n",
    "        broken=True\n",
    "\n",
    "\n",
    "    for j in range(4):\n",
    "        movement_date=start_date+datetime.timedelta(days=j*random.randint(1,10))\n",
    "\n",
    "        start_date=movement_date\n",
    "\n",
    "        street_name=fake.address()\n",
    "        sell=j==3\n",
    "        random_city=citiesData.iloc[random.randint(1,1081)].values\n",
    "        datasetArray.append([good_import, movement_date, product_id, part_id, cost, sell, expiration_date, broken,fragility, volume, manufacturer_id, product_category_id, random_city[0],random_city[1],random_city[2],random_city[3],random_city[4]])"
   ],
   "metadata": {
    "collapsed": false
   }
  },
  {
   "cell_type": "code",
   "execution_count": 62,
   "outputs": [],
   "source": [
    "dataFram=pd.DataFrame(datasetArray)\n",
    "dataFram.columns=['Импорт', \"Дата отгрузки\", 'id товара', \"Id партии\", 'Цена', \"Факт продажи\", \"Срок Годности\",\"Списание\", \"хрупкость\", 'Объем', \"Id Производителя\", \"Id категории\",'Город', 'Регион', 'Федеральный округ', 'lat', 'lng' ]"
   ],
   "metadata": {
    "collapsed": false
   }
  },
  {
   "cell_type": "code",
   "execution_count": 63,
   "outputs": [
    {
     "data": {
      "text/plain": "        Импорт       Дата отгрузки id товара Id партии  Цена  Факт продажи  \\\n0        False 2020-06-28 20:41:33   242 232   539 879   214         False   \n1        False 2020-07-04 20:41:33   242 232   539 879   214         False   \n2        False 2020-07-14 20:41:33   242 232   539 879   214         False   \n3        False 2020-07-20 20:41:33   242 232   539 879   214          True   \n4         True 2021-07-17 03:20:01   786 358   953 324   224         False   \n...        ...                 ...       ...       ...   ...           ...   \n399995   False 2022-01-09 13:57:11   252 572   937 410    60          True   \n399996    True 2019-08-22 02:57:10   760 610   828 744   180         False   \n399997    True 2019-08-31 02:57:10   760 610   828 744   180         False   \n399998    True 2019-09-02 02:57:10   760 610   828 744   180         False   \n399999    True 2019-09-29 02:57:10   760 610   828 744   180          True   \n\n        Срок Годности  Списание  хрупкость     Объем Id Производителя  \\\n0                 162     False   0.417026  0.210057          929 992   \n1                 162     False   0.417026  0.210057          929 992   \n2                 162     False   0.417026  0.210057          929 992   \n3                 162     False   0.417026  0.210057          929 992   \n4                  58      True   0.150151  1.822446          606 553   \n...               ...       ...        ...       ...              ...   \n399995            224     False   0.796079  0.701718          998 286   \n399996             77     False   0.961800  0.414841          320 725   \n399997             77     False   0.961800  0.414841          320 725   \n399998             77     False   0.961800  0.414841          320 725   \n399999             77     False   0.961800  0.414841          320 725   \n\n       Id категории       Город                   Регион Федеральный округ  \\\n0           363 499       Пудож                  Карелия   Северо-Западный   \n1           363 499    Мамоново  Калининградская область   Северо-Западный   \n2           363 499       Лобня       Московская область       Центральный   \n3           363 499     Саратов      Саратовская область       Приволжский   \n4           209 152        Ишим        Тюменская область         Уральский   \n...             ...         ...                      ...               ...   \n399995      561 695  Пролетарск       Ростовская область             Южный   \n399996      075 319  Светогорск    Ленинградская область   Северо-Западный   \n399997      075 319     Суворов         Тульская область       Центральный   \n399998      075 319      Сольцы     Новгородская область   Северо-Западный   \n399999      075 319       Курск          Курская область       Центральный   \n\n              lat        lng  \n0        61,80589     36,533  \n1       54,463785  19,942267  \n2       56,012269  37,474821  \n3       51,533103  46,034158  \n4        56,11055  69,479639  \n...           ...        ...  \n399995  46,703849  41,727544  \n399996  61,111193   28,87268  \n399997  54,122083  36,490339  \n399998  58,120168  30,309355  \n399999  51,730361  36,192647  \n\n[400000 rows x 17 columns]",
      "text/html": "<div>\n<style scoped>\n    .dataframe tbody tr th:only-of-type {\n        vertical-align: middle;\n    }\n\n    .dataframe tbody tr th {\n        vertical-align: top;\n    }\n\n    .dataframe thead th {\n        text-align: right;\n    }\n</style>\n<table border=\"1\" class=\"dataframe\">\n  <thead>\n    <tr style=\"text-align: right;\">\n      <th></th>\n      <th>Импорт</th>\n      <th>Дата отгрузки</th>\n      <th>id товара</th>\n      <th>Id партии</th>\n      <th>Цена</th>\n      <th>Факт продажи</th>\n      <th>Срок Годности</th>\n      <th>Списание</th>\n      <th>хрупкость</th>\n      <th>Объем</th>\n      <th>Id Производителя</th>\n      <th>Id категории</th>\n      <th>Город</th>\n      <th>Регион</th>\n      <th>Федеральный округ</th>\n      <th>lat</th>\n      <th>lng</th>\n    </tr>\n  </thead>\n  <tbody>\n    <tr>\n      <th>0</th>\n      <td>False</td>\n      <td>2020-06-28 20:41:33</td>\n      <td>242 232</td>\n      <td>539 879</td>\n      <td>214</td>\n      <td>False</td>\n      <td>162</td>\n      <td>False</td>\n      <td>0.417026</td>\n      <td>0.210057</td>\n      <td>929 992</td>\n      <td>363 499</td>\n      <td>Пудож</td>\n      <td>Карелия</td>\n      <td>Северо-Западный</td>\n      <td>61,80589</td>\n      <td>36,533</td>\n    </tr>\n    <tr>\n      <th>1</th>\n      <td>False</td>\n      <td>2020-07-04 20:41:33</td>\n      <td>242 232</td>\n      <td>539 879</td>\n      <td>214</td>\n      <td>False</td>\n      <td>162</td>\n      <td>False</td>\n      <td>0.417026</td>\n      <td>0.210057</td>\n      <td>929 992</td>\n      <td>363 499</td>\n      <td>Мамоново</td>\n      <td>Калининградская область</td>\n      <td>Северо-Западный</td>\n      <td>54,463785</td>\n      <td>19,942267</td>\n    </tr>\n    <tr>\n      <th>2</th>\n      <td>False</td>\n      <td>2020-07-14 20:41:33</td>\n      <td>242 232</td>\n      <td>539 879</td>\n      <td>214</td>\n      <td>False</td>\n      <td>162</td>\n      <td>False</td>\n      <td>0.417026</td>\n      <td>0.210057</td>\n      <td>929 992</td>\n      <td>363 499</td>\n      <td>Лобня</td>\n      <td>Московская область</td>\n      <td>Центральный</td>\n      <td>56,012269</td>\n      <td>37,474821</td>\n    </tr>\n    <tr>\n      <th>3</th>\n      <td>False</td>\n      <td>2020-07-20 20:41:33</td>\n      <td>242 232</td>\n      <td>539 879</td>\n      <td>214</td>\n      <td>True</td>\n      <td>162</td>\n      <td>False</td>\n      <td>0.417026</td>\n      <td>0.210057</td>\n      <td>929 992</td>\n      <td>363 499</td>\n      <td>Саратов</td>\n      <td>Саратовская область</td>\n      <td>Приволжский</td>\n      <td>51,533103</td>\n      <td>46,034158</td>\n    </tr>\n    <tr>\n      <th>4</th>\n      <td>True</td>\n      <td>2021-07-17 03:20:01</td>\n      <td>786 358</td>\n      <td>953 324</td>\n      <td>224</td>\n      <td>False</td>\n      <td>58</td>\n      <td>True</td>\n      <td>0.150151</td>\n      <td>1.822446</td>\n      <td>606 553</td>\n      <td>209 152</td>\n      <td>Ишим</td>\n      <td>Тюменская область</td>\n      <td>Уральский</td>\n      <td>56,11055</td>\n      <td>69,479639</td>\n    </tr>\n    <tr>\n      <th>...</th>\n      <td>...</td>\n      <td>...</td>\n      <td>...</td>\n      <td>...</td>\n      <td>...</td>\n      <td>...</td>\n      <td>...</td>\n      <td>...</td>\n      <td>...</td>\n      <td>...</td>\n      <td>...</td>\n      <td>...</td>\n      <td>...</td>\n      <td>...</td>\n      <td>...</td>\n      <td>...</td>\n      <td>...</td>\n    </tr>\n    <tr>\n      <th>399995</th>\n      <td>False</td>\n      <td>2022-01-09 13:57:11</td>\n      <td>252 572</td>\n      <td>937 410</td>\n      <td>60</td>\n      <td>True</td>\n      <td>224</td>\n      <td>False</td>\n      <td>0.796079</td>\n      <td>0.701718</td>\n      <td>998 286</td>\n      <td>561 695</td>\n      <td>Пролетарск</td>\n      <td>Ростовская область</td>\n      <td>Южный</td>\n      <td>46,703849</td>\n      <td>41,727544</td>\n    </tr>\n    <tr>\n      <th>399996</th>\n      <td>True</td>\n      <td>2019-08-22 02:57:10</td>\n      <td>760 610</td>\n      <td>828 744</td>\n      <td>180</td>\n      <td>False</td>\n      <td>77</td>\n      <td>False</td>\n      <td>0.961800</td>\n      <td>0.414841</td>\n      <td>320 725</td>\n      <td>075 319</td>\n      <td>Светогорск</td>\n      <td>Ленинградская область</td>\n      <td>Северо-Западный</td>\n      <td>61,111193</td>\n      <td>28,87268</td>\n    </tr>\n    <tr>\n      <th>399997</th>\n      <td>True</td>\n      <td>2019-08-31 02:57:10</td>\n      <td>760 610</td>\n      <td>828 744</td>\n      <td>180</td>\n      <td>False</td>\n      <td>77</td>\n      <td>False</td>\n      <td>0.961800</td>\n      <td>0.414841</td>\n      <td>320 725</td>\n      <td>075 319</td>\n      <td>Суворов</td>\n      <td>Тульская область</td>\n      <td>Центральный</td>\n      <td>54,122083</td>\n      <td>36,490339</td>\n    </tr>\n    <tr>\n      <th>399998</th>\n      <td>True</td>\n      <td>2019-09-02 02:57:10</td>\n      <td>760 610</td>\n      <td>828 744</td>\n      <td>180</td>\n      <td>False</td>\n      <td>77</td>\n      <td>False</td>\n      <td>0.961800</td>\n      <td>0.414841</td>\n      <td>320 725</td>\n      <td>075 319</td>\n      <td>Сольцы</td>\n      <td>Новгородская область</td>\n      <td>Северо-Западный</td>\n      <td>58,120168</td>\n      <td>30,309355</td>\n    </tr>\n    <tr>\n      <th>399999</th>\n      <td>True</td>\n      <td>2019-09-29 02:57:10</td>\n      <td>760 610</td>\n      <td>828 744</td>\n      <td>180</td>\n      <td>True</td>\n      <td>77</td>\n      <td>False</td>\n      <td>0.961800</td>\n      <td>0.414841</td>\n      <td>320 725</td>\n      <td>075 319</td>\n      <td>Курск</td>\n      <td>Курская область</td>\n      <td>Центральный</td>\n      <td>51,730361</td>\n      <td>36,192647</td>\n    </tr>\n  </tbody>\n</table>\n<p>400000 rows × 17 columns</p>\n</div>"
     },
     "execution_count": 63,
     "metadata": {},
     "output_type": "execute_result"
    }
   ],
   "source": [
    "dataFram"
   ],
   "metadata": {
    "collapsed": false
   }
  }
 ],
 "metadata": {
  "kernelspec": {
   "display_name": "Python 3",
   "language": "python",
   "name": "python3"
  },
  "language_info": {
   "codemirror_mode": {
    "name": "ipython",
    "version": 2
   },
   "file_extension": ".py",
   "mimetype": "text/x-python",
   "name": "python",
   "nbconvert_exporter": "python",
   "pygments_lexer": "ipython2",
   "version": "2.7.6"
  }
 },
 "nbformat": 4,
 "nbformat_minor": 0
}
