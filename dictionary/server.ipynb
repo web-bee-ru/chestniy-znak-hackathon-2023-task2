{
 "cells": [
  {
   "cell_type": "code",
   "execution_count": 16,
   "metadata": {
    "collapsed": true
   },
   "outputs": [
    {
     "data": {
      "text/plain": "'[{\"date\":\"2020-04-05\",\"value\":29},{\"date\":\"2020-04-12\",\"value\":22},{\"date\":\"2020-04-19\",\"value\":26},{\"date\":\"2020-04-26\",\"value\":39},{\"date\":\"2020-05-03\",\"value\":32},{\"date\":\"2020-05-10\",\"value\":37},{\"date\":\"2020-05-17\",\"value\":42},{\"date\":\"2020-05-24\",\"value\":42},{\"date\":\"2020-05-31\",\"value\":44},{\"date\":\"2020-06-07\",\"value\":48},{\"date\":\"2020-06-14\",\"value\":42},{\"date\":\"2020-06-21\",\"value\":44},{\"date\":\"2020-06-28\",\"value\":49},{\"date\":\"2020-07-05\",\"value\":53},{\"date\":\"2020-07-12\",\"value\":62},{\"date\":\"2020-07-19\",\"value\":44},{\"date\":\"2020-07-26\",\"value\":50},{\"date\":\"2020-08-02\",\"value\":46},{\"date\":\"2020-08-09\",\"value\":42},{\"date\":\"2020-08-16\",\"value\":44},{\"date\":\"2020-08-23\",\"value\":44},{\"date\":\"2020-08-30\",\"value\":43},{\"date\":\"2020-09-06\",\"value\":36},{\"date\":\"2020-09-13\",\"value\":41},{\"date\":\"2020-09-20\",\"value\":46},{\"date\":\"2020-09-27\",\"value\":34},{\"date\":\"2020-10-04\",\"value\":54},{\"date\":\"2020-10-11\",\"value\":48},{\"date\":\"2020-10-18\",\"value\":44},{\"date\":\"2020-10-25\",\"value\":51},{\"date\":\"2020-11-01\",\"value\":45},{\"date\":\"2020-11-08\",\"value\":51},{\"date\":\"2020-11-15\",\"value\":57},{\"date\":\"2020-11-22\",\"value\":53},{\"date\":\"2020-11-29\",\"value\":34},{\"date\":\"2020-12-06\",\"value\":43},{\"date\":\"2020-12-13\",\"value\":43},{\"date\":\"2020-12-20\",\"value\":39},{\"date\":\"2020-12-27\",\"value\":31},{\"date\":\"2021-01-03\",\"value\":47},{\"date\":\"2021-01-10\",\"value\":46},{\"date\":\"2021-01-17\",\"value\":36},{\"date\":\"2021-01-24\",\"value\":42},{\"date\":\"2021-01-31\",\"value\":45},{\"date\":\"2021-02-07\",\"value\":42},{\"date\":\"2021-02-14\",\"value\":37},{\"date\":\"2021-02-21\",\"value\":39},{\"date\":\"2021-02-28\",\"value\":63},{\"date\":\"2021-03-07\",\"value\":47},{\"date\":\"2021-03-14\",\"value\":49},{\"date\":\"2021-03-21\",\"value\":48},{\"date\":\"2021-03-28\",\"value\":68},{\"date\":\"2021-04-04\",\"value\":41},{\"date\":\"2021-04-11\",\"value\":68},{\"date\":\"2021-04-18\",\"value\":56},{\"date\":\"2021-04-25\",\"value\":44},{\"date\":\"2021-05-02\",\"value\":68},{\"date\":\"2021-05-09\",\"value\":57},{\"date\":\"2021-05-16\",\"value\":73},{\"date\":\"2021-05-23\",\"value\":48},{\"date\":\"2021-05-30\",\"value\":50},{\"date\":\"2021-06-06\",\"value\":60},{\"date\":\"2021-06-13\",\"value\":44},{\"date\":\"2021-06-20\",\"value\":69},{\"date\":\"2021-06-27\",\"value\":56},{\"date\":\"2021-07-04\",\"value\":84},{\"date\":\"2021-07-11\",\"value\":100},{\"date\":\"2021-07-18\",\"value\":53},{\"date\":\"2021-07-25\",\"value\":49},{\"date\":\"2021-08-01\",\"value\":57},{\"date\":\"2021-08-08\",\"value\":34},{\"date\":\"2021-08-15\",\"value\":59},{\"date\":\"2021-08-22\",\"value\":46},{\"date\":\"2021-08-29\",\"value\":42},{\"date\":\"2021-09-05\",\"value\":39},{\"date\":\"2021-09-12\",\"value\":64},{\"date\":\"2021-09-19\",\"value\":38},{\"date\":\"2021-09-26\",\"value\":59},{\"date\":\"2021-10-03\",\"value\":35},{\"date\":\"2021-10-10\",\"value\":50},{\"date\":\"2021-10-17\",\"value\":42},{\"date\":\"2021-10-24\",\"value\":40},{\"date\":\"2021-10-31\",\"value\":63},{\"date\":\"2021-11-07\",\"value\":45},{\"date\":\"2021-11-14\",\"value\":41},{\"date\":\"2021-11-21\",\"value\":41},{\"date\":\"2021-11-28\",\"value\":54},{\"date\":\"2021-12-05\",\"value\":24},{\"date\":\"2021-12-12\",\"value\":44},{\"date\":\"2021-12-19\",\"value\":38},{\"date\":\"2021-12-26\",\"value\":32},{\"date\":\"2022-01-02\",\"value\":57},{\"date\":\"2022-01-09\",\"value\":40},{\"date\":\"2022-01-16\",\"value\":51},{\"date\":\"2022-01-23\",\"value\":49},{\"date\":\"2022-01-30\",\"value\":58},{\"date\":\"2022-02-06\",\"value\":39},{\"date\":\"2022-02-13\",\"value\":49},{\"date\":\"2022-02-20\",\"value\":52},{\"date\":\"2022-02-27\",\"value\":42},{\"date\":\"2022-03-06\",\"value\":41},{\"date\":\"2022-03-13\",\"value\":48},{\"date\":\"2022-03-20\",\"value\":53},{\"date\":\"2022-03-27\",\"value\":57},{\"date\":\"2022-04-03\",\"value\":52},{\"date\":\"2022-04-10\",\"value\":48},{\"date\":\"2022-04-17\",\"value\":47},{\"date\":\"2022-04-24\",\"value\":57},{\"date\":\"2022-05-01\",\"value\":56},{\"date\":\"2022-05-08\",\"value\":39},{\"date\":\"2022-05-15\",\"value\":62},{\"date\":\"2022-05-22\",\"value\":42},{\"date\":\"2022-05-29\",\"value\":58},{\"date\":\"2022-06-05\",\"value\":55},{\"date\":\"2022-06-12\",\"value\":55},{\"date\":\"2022-06-19\",\"value\":48},{\"date\":\"2022-06-26\",\"value\":52},{\"date\":\"2022-07-03\",\"value\":57},{\"date\":\"2022-07-10\",\"value\":61},{\"date\":\"2022-07-17\",\"value\":47},{\"date\":\"2022-07-24\",\"value\":65},{\"date\":\"2022-07-31\",\"value\":63},{\"date\":\"2022-08-07\",\"value\":59},{\"date\":\"2022-08-14\",\"value\":76},{\"date\":\"2022-08-21\",\"value\":49},{\"date\":\"2022-08-28\",\"value\":60},{\"date\":\"2022-09-04\",\"value\":54},{\"date\":\"2022-09-11\",\"value\":68},{\"date\":\"2022-09-18\",\"value\":58},{\"date\":\"2022-09-25\",\"value\":34},{\"date\":\"2022-10-02\",\"value\":38},{\"date\":\"2022-10-09\",\"value\":40},{\"date\":\"2022-10-16\",\"value\":48},{\"date\":\"2022-10-23\",\"value\":35},{\"date\":\"2022-10-30\",\"value\":39},{\"date\":\"2022-11-06\",\"value\":39},{\"date\":\"2022-11-13\",\"value\":40},{\"date\":\"2022-11-20\",\"value\":53},{\"date\":\"2022-11-27\",\"value\":48},{\"date\":\"2022-12-04\",\"value\":51},{\"date\":\"2022-12-11\",\"value\":57},{\"date\":\"2022-12-18\",\"value\":39},{\"date\":\"2022-12-25\",\"value\":42},{\"date\":\"2023-01-01\",\"value\":63},{\"date\":\"2023-01-08\",\"value\":48},{\"date\":\"2023-01-15\",\"value\":53},{\"date\":\"2023-01-22\",\"value\":54},{\"date\":\"2023-01-29\",\"value\":45},{\"date\":\"2023-02-05\",\"value\":49},{\"date\":\"2023-02-12\",\"value\":59},{\"date\":\"2023-02-19\",\"value\":57},{\"date\":\"2023-02-26\",\"value\":41},{\"date\":\"2023-03-05\",\"value\":61},{\"date\":\"2023-03-12\",\"value\":61},{\"date\":\"2023-03-19\",\"value\":61},{\"date\":\"2023-03-26\",\"value\":78}]\\n'"
     },
     "execution_count": 16,
     "metadata": {},
     "output_type": "execute_result"
    }
   ],
   "source": [
    "import wordstats\n",
    "json_str = wordstats.google_wordstats_json('минеральная вода')\n",
    "\n",
    "json_str"
   ]
  },
  {
   "cell_type": "code",
   "execution_count": 14,
   "outputs": [
    {
     "data": {
      "text/plain": "          date  value\n0   2020-04-05     29\n1   2020-04-12     22\n2   2020-04-19     26\n3   2020-04-26     39\n4   2020-05-03     32\n..         ...    ...\n151 2023-02-26     41\n152 2023-03-05     61\n153 2023-03-12     61\n154 2023-03-19     60\n155 2023-03-26     69\n\n[156 rows x 2 columns]",
      "text/html": "<div>\n<style scoped>\n    .dataframe tbody tr th:only-of-type {\n        vertical-align: middle;\n    }\n\n    .dataframe tbody tr th {\n        vertical-align: top;\n    }\n\n    .dataframe thead th {\n        text-align: right;\n    }\n</style>\n<table border=\"1\" class=\"dataframe\">\n  <thead>\n    <tr style=\"text-align: right;\">\n      <th></th>\n      <th>date</th>\n      <th>value</th>\n    </tr>\n  </thead>\n  <tbody>\n    <tr>\n      <th>0</th>\n      <td>2020-04-05</td>\n      <td>29</td>\n    </tr>\n    <tr>\n      <th>1</th>\n      <td>2020-04-12</td>\n      <td>22</td>\n    </tr>\n    <tr>\n      <th>2</th>\n      <td>2020-04-19</td>\n      <td>26</td>\n    </tr>\n    <tr>\n      <th>3</th>\n      <td>2020-04-26</td>\n      <td>39</td>\n    </tr>\n    <tr>\n      <th>4</th>\n      <td>2020-05-03</td>\n      <td>32</td>\n    </tr>\n    <tr>\n      <th>...</th>\n      <td>...</td>\n      <td>...</td>\n    </tr>\n    <tr>\n      <th>151</th>\n      <td>2023-02-26</td>\n      <td>41</td>\n    </tr>\n    <tr>\n      <th>152</th>\n      <td>2023-03-05</td>\n      <td>61</td>\n    </tr>\n    <tr>\n      <th>153</th>\n      <td>2023-03-12</td>\n      <td>61</td>\n    </tr>\n    <tr>\n      <th>154</th>\n      <td>2023-03-19</td>\n      <td>60</td>\n    </tr>\n    <tr>\n      <th>155</th>\n      <td>2023-03-26</td>\n      <td>69</td>\n    </tr>\n  </tbody>\n</table>\n<p>156 rows × 2 columns</p>\n</div>"
     },
     "execution_count": 14,
     "metadata": {},
     "output_type": "execute_result"
    }
   ],
   "source": [
    "import pandas as pd\n",
    "\n",
    "pd.read_json(json_str, orient='records')"
   ],
   "metadata": {
    "collapsed": false
   }
  }
 ],
 "metadata": {
  "kernelspec": {
   "display_name": "Python 3",
   "language": "python",
   "name": "python3"
  },
  "language_info": {
   "codemirror_mode": {
    "name": "ipython",
    "version": 2
   },
   "file_extension": ".py",
   "mimetype": "text/x-python",
   "name": "python",
   "nbconvert_exporter": "python",
   "pygments_lexer": "ipython2",
   "version": "2.7.6"
  }
 },
 "nbformat": 4,
 "nbformat_minor": 0
}
